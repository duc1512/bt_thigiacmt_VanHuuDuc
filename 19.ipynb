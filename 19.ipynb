{
 "cells": [
  {
   "cell_type": "code",
   "execution_count": 1,
   "id": "c86e7b0d-5953-4ea6-abd7-14a9c5fc7d4e",
   "metadata": {},
   "outputs": [
    {
     "name": "stdout",
     "output_type": "stream",
     "text": [
      "Requirement already satisfied: opencv-python in d:\\cntt\\thi_giacmt\\lib\\site-packages (4.10.0.84)\n",
      "Requirement already satisfied: numpy>=1.21.2 in d:\\cntt\\thi_giacmt\\lib\\site-packages (from opencv-python) (1.26.4)\n"
     ]
    }
   ],
   "source": [
    "# Cài đặt opencv-python\n",
    "!pip install opencv-python"
   ]
  },
  {
   "cell_type": "code",
   "execution_count": 7,
   "id": "9a33e52c-3349-4749-bdef-167ab22c0ec0",
   "metadata": {},
   "outputs": [],
   "source": []
  },
  {
   "cell_type": "code",
   "execution_count": 19,
   "id": "1afd55b3-f1eb-4002-9e94-d066a9bdefe8",
   "metadata": {},
   "outputs": [],
   "source": [
    "# Import thư viện\n",
    "import cv2"
   ]
  },
  {
   "cell_type": "code",
   "execution_count": 20,
   "id": "7e2a1a67-381a-4be1-a1da-c62c728168ae",
   "metadata": {},
   "outputs": [
    {
     "name": "stdout",
     "output_type": "stream",
     "text": [
      "[[[ 21  11   1]\n",
      "  [ 21  11   1]\n",
      "  [ 21  11   1]\n",
      "  ...\n",
      "  [  7   4   0]\n",
      "  [ 12   3   0]\n",
      "  [ 14   2   0]]\n",
      "\n",
      " [[ 22  13   0]\n",
      "  [ 22  13   0]\n",
      "  [ 21  12   0]\n",
      "  ...\n",
      "  [ 10   3   0]\n",
      "  [ 10   3   0]\n",
      "  [ 11   2   0]]\n",
      "\n",
      " [[ 22  13   0]\n",
      "  [ 22  13   0]\n",
      "  [ 22  13   0]\n",
      "  ...\n",
      "  [  8   3   0]\n",
      "  [  7   4   0]\n",
      "  [  9   2   0]]\n",
      "\n",
      " ...\n",
      "\n",
      " [[ 40  45   0]\n",
      "  [ 40  45   0]\n",
      "  [ 40  45   0]\n",
      "  ...\n",
      "  [ 61 209 169]\n",
      "  [ 62 210 168]\n",
      "  [ 66 211 172]]\n",
      "\n",
      " [[ 40  45   0]\n",
      "  [ 40  45   0]\n",
      "  [ 40  45   0]\n",
      "  ...\n",
      "  [ 58 208 165]\n",
      "  [ 60 208 170]\n",
      "  [ 61 210 170]]\n",
      "\n",
      " [[ 40  45   0]\n",
      "  [ 40  45   0]\n",
      "  [ 40  45   0]\n",
      "  ...\n",
      "  [ 58 208 165]\n",
      "  [ 60 208 170]\n",
      "  [ 60 209 169]]]\n"
     ]
    }
   ],
   "source": [
    "# Đọc một ảnh (nhan TAB de nhin autocomplete)\n",
    "path=  'C:\\\\Users\\\\Vu Duc Admin\\\\Documents\\\\img\\\\02.jpg'\n",
    "img = cv2.imread(path)\n",
    "# In thông tin của ảnh\n",
    "print(img)"
   ]
  },
  {
   "cell_type": "code",
   "execution_count": 21,
   "id": "2f6237a0-958b-41fc-ab13-6ae372750626",
   "metadata": {},
   "outputs": [
    {
     "name": "stdout",
     "output_type": "stream",
     "text": [
      "(2813, 5000, 3)\n",
      "2813\n",
      "5000\n",
      "3\n"
     ]
    }
   ],
   "source": [
    "# Lấy kích thước\n",
    "print(img.shape)\n",
    "x, y, z = img.shape\n",
    "print(x)\n",
    "print(y)\n",
    "print(z)"
   ]
  },
  {
   "cell_type": "code",
   "execution_count": 22,
   "id": "def68a4c-7361-471c-9709-1b3a8349a6be",
   "metadata": {},
   "outputs": [],
   "source": [
    "# Hiển thị ảnh\n",
    "cv2.imshow('Window', img)\n",
    "# Chờ một khoảng thời gian\n",
    "cv2.waitKey(10000)\n",
    "# Đóng window\n",
    "cv2.destroyWindow('Window')"
   ]
  },
  {
   "cell_type": "code",
   "execution_count": null,
   "id": "1f43dbb5-668c-4af7-9f4a-c20174b8865d",
   "metadata": {},
   "outputs": [],
   "source": [
    "# Tách màu\n",
    "b, g, r = cv2.split(img)\n",
    "cv2.imshow('Window', img)\n",
    "cv2.imshow('Red', r)\n",
    "cv2.imshow('Green', g)\n",
    "cv2.imshow('Blue', b)\n",
    "\n",
    "# Chờ một khoảng thời gian\n",
    "cv2.waitKey(0)\n",
    "# Đóng window\n",
    "cv2.destroyAllWindows()"
   ]
  },
  {
   "cell_type": "code",
   "execution_count": null,
   "id": "e22e8bdb-3be8-48fa-8f47-98fc89d67083",
   "metadata": {},
   "outputs": [],
   "source": [
    "gray_img = cv2.cvtColor(img, cv2.COLOR_BGR2GRAY)\n",
    "img_2 = cv2.cvtColor(img, cv2.COLOR_BGR2RGB)\n",
    "cv2.imshow('Window', img)\n",
    "cv2.imshow('gray_img', gray_img)\n",
    "cv2.imshow('img_2', img_2)\n",
    "# Chờ một khoảng thời gian\n",
    "cv2.waitKey(0)\n",
    "# Đóng window\n",
    "cv2.destroyAllWindows()"
   ]
  },
  {
   "cell_type": "code",
   "execution_count": 18,
   "id": "1fbf9386-0b22-48fc-b550-e489325c175d",
   "metadata": {},
   "outputs": [
    {
     "data": {
      "text/plain": [
       "'Window'"
      ]
     },
     "metadata": {},
     "output_type": "display_data"
    },
    {
     "data": {
      "text/plain": [
       "array([[[ 21,  11,   1],\n",
       "        [ 21,  11,   1],\n",
       "        [ 21,  11,   1],\n",
       "        ...,\n",
       "        [  7,   4,   0],\n",
       "        [ 12,   3,   0],\n",
       "        [ 14,   2,   0]],\n",
       "\n",
       "       [[ 22,  13,   0],\n",
       "        [ 22,  13,   0],\n",
       "        [ 21,  12,   0],\n",
       "        ...,\n",
       "        [ 10,   3,   0],\n",
       "        [ 10,   3,   0],\n",
       "        [ 11,   2,   0]],\n",
       "\n",
       "       [[ 22,  13,   0],\n",
       "        [ 22,  13,   0],\n",
       "        [ 22,  13,   0],\n",
       "        ...,\n",
       "        [  8,   3,   0],\n",
       "        [  7,   4,   0],\n",
       "        [  9,   2,   0]],\n",
       "\n",
       "       ...,\n",
       "\n",
       "       [[ 40,  45,   0],\n",
       "        [ 40,  45,   0],\n",
       "        [ 40,  45,   0],\n",
       "        ...,\n",
       "        [ 61, 209, 169],\n",
       "        [ 62, 210, 168],\n",
       "        [ 66, 211, 172]],\n",
       "\n",
       "       [[ 40,  45,   0],\n",
       "        [ 40,  45,   0],\n",
       "        [ 40,  45,   0],\n",
       "        ...,\n",
       "        [ 58, 208, 165],\n",
       "        [ 60, 208, 170],\n",
       "        [ 61, 210, 170]],\n",
       "\n",
       "       [[ 40,  45,   0],\n",
       "        [ 40,  45,   0],\n",
       "        [ 40,  45,   0],\n",
       "        ...,\n",
       "        [ 58, 208, 165],\n",
       "        [ 60, 208, 170],\n",
       "        [ 60, 209, 169]]], dtype=uint8)"
      ]
     },
     "metadata": {},
     "output_type": "display_data"
    },
    {
     "data": {
      "text/plain": [
       "'Window-2'"
      ]
     },
     "metadata": {},
     "output_type": "display_data"
    },
    {
     "data": {
      "text/plain": [
       "array([[[  0, 255,   0],\n",
       "        [  0, 255,   0],\n",
       "        [  0, 255,   0],\n",
       "        ...,\n",
       "        [  7,   4,   0],\n",
       "        [ 12,   3,   0],\n",
       "        [ 14,   2,   0]],\n",
       "\n",
       "       [[  0, 255,   0],\n",
       "        [  0, 255,   0],\n",
       "        [  0, 255,   0],\n",
       "        ...,\n",
       "        [ 10,   3,   0],\n",
       "        [ 10,   3,   0],\n",
       "        [ 11,   2,   0]],\n",
       "\n",
       "       [[  0, 255,   0],\n",
       "        [  0, 255,   0],\n",
       "        [  0, 255,   0],\n",
       "        ...,\n",
       "        [  8,   3,   0],\n",
       "        [  7,   4,   0],\n",
       "        [  9,   2,   0]],\n",
       "\n",
       "       ...,\n",
       "\n",
       "       [[ 40,  45,   0],\n",
       "        [ 40,  45,   0],\n",
       "        [ 40,  45,   0],\n",
       "        ...,\n",
       "        [ 61, 209, 169],\n",
       "        [ 62, 210, 168],\n",
       "        [ 66, 211, 172]],\n",
       "\n",
       "       [[ 40,  45,   0],\n",
       "        [ 40,  45,   0],\n",
       "        [ 40,  45,   0],\n",
       "        ...,\n",
       "        [ 58, 208, 165],\n",
       "        [ 60, 208, 170],\n",
       "        [ 61, 210, 170]],\n",
       "\n",
       "       [[ 40,  45,   0],\n",
       "        [ 40,  45,   0],\n",
       "        [ 40,  45,   0],\n",
       "        ...,\n",
       "        [ 58, 208, 165],\n",
       "        [ 60, 208, 170],\n",
       "        [ 60, 209, 169]]], dtype=uint8)"
      ]
     },
     "metadata": {},
     "output_type": "display_data"
    }
   ],
   "source": [
    "# Thay đổi thông số của điểm ảnh\n",
    "height, width, z = img.shape\n",
    "quater_h = height/2\n",
    "quater_w = width/2\n",
    "\n",
    "# geen color\n",
    "green_color = (0,255,0)\n",
    "\n",
    "# copy ảnh\n",
    "img2 = img.copy()\n",
    "\n",
    "# thay đổi màu của góc 1/4 bên trái trên\n",
    "\n",
    "for y in range(int(quater_h)):\n",
    "    for x in range(int(quater_w)):\n",
    "        img2[y, x] = green_color\n",
    "# Hiển thị\n",
    "display('Window', img)\n",
    "display('Window-2', img2)"
   ]
  },
  {
   "cell_type": "code",
   "execution_count": 11,
   "id": "21033802-cf02-48ab-ac35-6c91244be94f",
   "metadata": {},
   "outputs": [
    {
     "data": {
      "text/plain": [
       "None"
      ]
     },
     "metadata": {},
     "output_type": "display_data"
    }
   ],
   "source": []
  },
  {
   "cell_type": "code",
   "execution_count": null,
   "id": "7e49ec71-f0d8-47f9-881c-b24c869f29b8",
   "metadata": {},
   "outputs": [],
   "source": []
  }
 ],
 "metadata": {
  "kernelspec": {
   "display_name": "Python 3 (ipykernel)",
   "language": "python",
   "name": "python3"
  },
  "language_info": {
   "codemirror_mode": {
    "name": "ipython",
    "version": 3
   },
   "file_extension": ".py",
   "mimetype": "text/x-python",
   "name": "python",
   "nbconvert_exporter": "python",
   "pygments_lexer": "ipython3",
   "version": "3.12.4"
  }
 },
 "nbformat": 4,
 "nbformat_minor": 5
}
