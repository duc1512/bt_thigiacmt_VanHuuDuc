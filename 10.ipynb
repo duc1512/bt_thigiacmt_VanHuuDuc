{
 "cells": [
  {
   "cell_type": "code",
   "execution_count": 7,
   "id": "7b766411-e6b1-4399-886f-a52a5cc19a4d",
   "metadata": {},
   "outputs": [],
   "source": [
    "from PIL import Image\n",
    "import matplotlib.pyplot as plt"
   ]
  },
  {
   "cell_type": "code",
   "execution_count": null,
   "id": "ef0bc7b2-9d62-405f-8679-707b223f548c",
   "metadata": {},
   "outputs": [],
   "source": [
    "my_path='C:\\\\Users\\\\Vu Duc Admin\\\\Documents\\\\img\\\\02.jpg'\n",
    "\n",
    "img=Image.open(my_path)\n",
    "plt.switch_backend('tkagg')\n",
    "\n",
    "plt.imshow(img)\n",
    "plt.title(\"Click on the Image to select points\")\n",
    "\n",
    "points=plt.ginput(5)\n",
    "\n",
    "print(points)\n",
    "\n",
    "plt.show()"
   ]
  },
  {
   "cell_type": "code",
   "execution_count": null,
   "id": "b7d2e4d0-c323-4e9e-b60d-e29b5db37fa1",
   "metadata": {},
   "outputs": [],
   "source": [
    "# Vẽ lại các điểm đã chọn bằng dấu * màu đỏ\n",
    "plt.close()\n",
    "\n",
    "# Vẽ lại\n",
    "plt.imshow(img)\n",
    "for point in points:\n",
    "    x, y = point\n",
    "    plt.plot(x,y, 'r*')\n",
    "\n",
    "plt.show()\n"
   ]
  },
  {
   "cell_type": "code",
   "execution_count": null,
   "id": "5b91b693-040b-4500-9032-23fae5b67821",
   "metadata": {},
   "outputs": [],
   "source": []
  },
  {
   "cell_type": "code",
   "execution_count": null,
   "id": "3be5589f-7f72-425b-bb75-13a93990f0cc",
   "metadata": {},
   "outputs": [],
   "source": []
  }
 ],
 "metadata": {
  "kernelspec": {
   "display_name": "Python 3 (ipykernel)",
   "language": "python",
   "name": "python3"
  },
  "language_info": {
   "codemirror_mode": {
    "name": "ipython",
    "version": 3
   },
   "file_extension": ".py",
   "mimetype": "text/x-python",
   "name": "python",
   "nbconvert_exporter": "python",
   "pygments_lexer": "ipython3",
   "version": "3.12.4"
  }
 },
 "nbformat": 4,
 "nbformat_minor": 5
}
